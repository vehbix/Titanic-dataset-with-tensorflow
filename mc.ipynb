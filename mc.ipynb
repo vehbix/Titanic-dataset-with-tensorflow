{
 "cells": [
  {
   "cell_type": "code",
   "execution_count": 3,
   "metadata": {},
   "outputs": [],
   "source": [
    "import numpy as np\n",
    "import pandas as pd\n",
    "import tensorflow as tf\n",
    "import statistics\n",
    "import time\n",
    "import matplotlib.pyplot as plt\n",
    "import seaborn as sbn\n",
    "from keras.models import Sequential\n",
    "from keras.layers import Dense\n",
    "from keras.callbacks import EarlyStopping\n",
    "from sklearn.preprocessing import MinMaxScaler\n",
    "from sklearn.preprocessing import LabelEncoder, StandardScaler\n",
    "from sklearn.model_selection import train_test_split\n"
   ]
  },
  {
   "cell_type": "code",
   "execution_count": 127,
   "metadata": {},
   "outputs": [],
   "source": [
    "test_veriler=pd.read_csv(\"D:/1Onemli/1KODLAR/phyton/YZ/kulup/machine learning/titanic/DeepLearning/test.csv\")\n",
    "train_veriler=pd.read_csv(\"D:/1Onemli/1KODLAR/phyton/YZ/kulup/machine learning/titanic/DeepLearning/train.csv\")"
   ]
  },
  {
   "cell_type": "code",
   "execution_count": 128,
   "metadata": {},
   "outputs": [],
   "source": [
    "test_DF=pd.DataFrame(test_veriler)\n",
    "train_DF=pd.DataFrame(train_veriler)"
   ]
  },
  {
   "cell_type": "code",
   "execution_count": 129,
   "metadata": {},
   "outputs": [],
   "source": [
    "test_DF.drop(labels=[\"Name\",\"Ticket\",\"Fare\",\"Cabin\"],axis=1,inplace=True)\n",
    "train_DF.drop(labels=[\"PassengerId\",\"Name\",\"Ticket\",\"Fare\",\"Cabin\"],axis=1,inplace=True)\n",
    "train_DF=train_DF.dropna()\n",
    "test_DF=test_DF.dropna()"
   ]
  },
  {
   "cell_type": "code",
   "execution_count": 130,
   "metadata": {},
   "outputs": [],
   "source": [
    "le=LabelEncoder()\n",
    "train_DF[\"Sex\"]=le.fit_transform(train_DF[\"Sex\"]) \n",
    "test_DF[\"Sex\"]=le.fit_transform(test_DF[\"Sex\"])#male 1 female 0 \n",
    "train_DF[\"Embarked\"]=le.fit_transform(train_DF[\"Embarked\"])\n",
    "test_DF[\"Embarked\"]=le.fit_transform(test_DF[\"Embarked\"])"
   ]
  },
  {
   "cell_type": "code",
   "execution_count": 131,
   "metadata": {},
   "outputs": [],
   "source": [
    "train_DF_99= train_DF.sort_values(\"Age\",ascending = False).iloc[7:]"
   ]
  },
  {
   "cell_type": "code",
   "execution_count": 132,
   "metadata": {},
   "outputs": [],
   "source": [
    "ageScaler=StandardScaler()\n",
    "train_DF_99[\"Age\"]=ageScaler.fit_transform(train_DF_99[[\"Age\"]])\n",
    "train_DF[\"Age\"]=ageScaler.fit_transform(train_DF[[\"Age\"]])\n",
    "test_DF[\"Age\"]=ageScaler.fit_transform(test_DF[[\"Age\"]])"
   ]
  },
  {
   "cell_type": "code",
   "execution_count": 133,
   "metadata": {},
   "outputs": [],
   "source": [
    "x=train_DF_99.drop(labels=[\"Survived\"],axis=1,inplace=False) #x -> feature(özellik)\n",
    "y=train_DF_99[\"Survived\"]\n",
    "x_train, x_test, y_train, y_test = train_test_split(x,y,test_size=0.33,random_state=15)\n"
   ]
  },
  {
   "cell_type": "code",
   "execution_count": 134,
   "metadata": {},
   "outputs": [],
   "source": [
    "def ortalamaBul(vektor):\n",
    "    veriAdedi = len(vektor)\n",
    "    if veriAdedi <= 1:\n",
    "        return vektor\n",
    "    else:\n",
    "        return sum(vektor) / veriAdedi\n",
    "\n",
    "def standartSapmaBul(vektor):\n",
    "    sd = 0.0 # standart sapma\n",
    "    veriAdedi = len(vektor)\n",
    "    if veriAdedi <= 1:\n",
    "        return 0.0\n",
    "    else:\n",
    "        for _ in vektor:\n",
    "            sd += (float(_) - ortalamaBul(vektor)) ** 2\n",
    "        sd = (sd / float(veriAdedi)) ** 0.5\n",
    "        return sd"
   ]
  },
  {
   "cell_type": "code",
   "execution_count": 135,
   "metadata": {},
   "outputs": [],
   "source": [
    "model = Sequential()\n",
    "model.add(Dense(40,activation=\"sigmoid\"))\n",
    "# model.add(Dense(20,activation=\"sigmoid\"))\n",
    "model.add(Dense(20,activation=\"sigmoid\"))\n",
    "# model.add(Dense(20,activation=\"relu\"))\n",
    "model.add(Dense(20,activation=\"sigmoid\"))\n",
    "# model.add(Dense(20,activation=\"sigmoid\"))\n",
    "model.add(Dense(20,activation=\"sigmoid\"))  \n",
    "model.add(Dense( 1,activation=\"relu\"))       "
   ]
  },
  {
   "cell_type": "code",
   "execution_count": 136,
   "metadata": {},
   "outputs": [],
   "source": [
    "model = Sequential()\n",
    "model.add(Dense(40,activation=\"relu\"))\n",
    "model.add(Dense(20,activation=\"relu\"))\n",
    "model.add(Dense(20,activation=\"relu\"))\n",
    "model.add(Dense(20,activation=\"relu\"))\n",
    "model.add(Dense(20,activation=\"relu\"))  \n",
    "model.add(Dense( 1,activation=\"sigmoid\"))    "
   ]
  },
  {
   "cell_type": "code",
   "execution_count": 137,
   "metadata": {},
   "outputs": [],
   "source": [
    "opt=tf.keras.optimizers.Adamax(learning_rate = 0.002, beta_1 = 0.9, beta_2 = 0.999)"
   ]
  },
  {
   "cell_type": "code",
   "execution_count": 138,
   "metadata": {},
   "outputs": [
    {
     "name": "stdout",
     "output_type": "stream",
     "text": [
      "Epoch 1/1000\n",
      "16/16 [==============================] - 1s 32ms/step - loss: 0.2388 - accuracy: 0.5742 - val_loss: 0.2222 - val_accuracy: 0.6309\n",
      "Epoch 2/1000\n",
      "16/16 [==============================] - 0s 23ms/step - loss: 0.2279 - accuracy: 0.5742 - val_loss: 0.2167 - val_accuracy: 0.6309\n",
      "Epoch 3/1000\n",
      "16/16 [==============================] - 0s 17ms/step - loss: 0.2201 - accuracy: 0.5784 - val_loss: 0.2103 - val_accuracy: 0.6524\n",
      "Epoch 4/1000\n",
      "16/16 [==============================] - 0s 15ms/step - loss: 0.2118 - accuracy: 0.6462 - val_loss: 0.2055 - val_accuracy: 0.6781\n",
      "Epoch 5/1000\n",
      "16/16 [==============================] - 0s 12ms/step - loss: 0.2029 - accuracy: 0.7034 - val_loss: 0.1989 - val_accuracy: 0.6953\n",
      "Epoch 6/1000\n",
      "16/16 [==============================] - 0s 12ms/step - loss: 0.1933 - accuracy: 0.7394 - val_loss: 0.1917 - val_accuracy: 0.7082\n",
      "Epoch 7/1000\n",
      "16/16 [==============================] - 0s 14ms/step - loss: 0.1821 - accuracy: 0.7542 - val_loss: 0.1860 - val_accuracy: 0.7382\n",
      "Epoch 8/1000\n",
      "16/16 [==============================] - 0s 12ms/step - loss: 0.1709 - accuracy: 0.7818 - val_loss: 0.1772 - val_accuracy: 0.7511\n",
      "Epoch 9/1000\n",
      "16/16 [==============================] - 0s 12ms/step - loss: 0.1598 - accuracy: 0.7818 - val_loss: 0.1707 - val_accuracy: 0.7682\n",
      "Epoch 10/1000\n",
      "16/16 [==============================] - 0s 12ms/step - loss: 0.1497 - accuracy: 0.8072 - val_loss: 0.1668 - val_accuracy: 0.7511\n",
      "Epoch 11/1000\n",
      "16/16 [==============================] - 0s 12ms/step - loss: 0.1428 - accuracy: 0.8199 - val_loss: 0.1593 - val_accuracy: 0.7768\n",
      "Epoch 12/1000\n",
      "16/16 [==============================] - 0s 12ms/step - loss: 0.1364 - accuracy: 0.8305 - val_loss: 0.1596 - val_accuracy: 0.7768\n",
      "Epoch 13/1000\n",
      "16/16 [==============================] - 0s 17ms/step - loss: 0.1341 - accuracy: 0.8263 - val_loss: 0.1528 - val_accuracy: 0.7897\n",
      "Epoch 14/1000\n",
      "16/16 [==============================] - 0s 19ms/step - loss: 0.1314 - accuracy: 0.8369 - val_loss: 0.1538 - val_accuracy: 0.7811\n",
      "Epoch 15/1000\n",
      "16/16 [==============================] - 0s 13ms/step - loss: 0.1306 - accuracy: 0.8284 - val_loss: 0.1527 - val_accuracy: 0.7811\n",
      "Epoch 16/1000\n",
      "16/16 [==============================] - 0s 12ms/step - loss: 0.1266 - accuracy: 0.8220 - val_loss: 0.1487 - val_accuracy: 0.8069\n",
      "Epoch 17/1000\n",
      "16/16 [==============================] - 0s 12ms/step - loss: 0.1235 - accuracy: 0.8220 - val_loss: 0.1487 - val_accuracy: 0.8112\n",
      "Epoch 18/1000\n",
      "16/16 [==============================] - 0s 14ms/step - loss: 0.1221 - accuracy: 0.8411 - val_loss: 0.1502 - val_accuracy: 0.7983\n",
      "Epoch 19/1000\n",
      "16/16 [==============================] - 0s 14ms/step - loss: 0.1208 - accuracy: 0.8284 - val_loss: 0.1468 - val_accuracy: 0.8112\n",
      "Epoch 20/1000\n",
      "16/16 [==============================] - 0s 12ms/step - loss: 0.1190 - accuracy: 0.8432 - val_loss: 0.1474 - val_accuracy: 0.7983\n",
      "Epoch 21/1000\n",
      "16/16 [==============================] - 0s 12ms/step - loss: 0.1183 - accuracy: 0.8347 - val_loss: 0.1486 - val_accuracy: 0.8069\n",
      "Epoch 22/1000\n",
      "16/16 [==============================] - 0s 14ms/step - loss: 0.1171 - accuracy: 0.8390 - val_loss: 0.1473 - val_accuracy: 0.7940\n",
      "Epoch 23/1000\n",
      "16/16 [==============================] - 0s 14ms/step - loss: 0.1158 - accuracy: 0.8453 - val_loss: 0.1482 - val_accuracy: 0.7983\n",
      "Epoch 24/1000\n",
      "16/16 [==============================] - 0s 19ms/step - loss: 0.1176 - accuracy: 0.8390 - val_loss: 0.1468 - val_accuracy: 0.7897\n",
      "Epoch 25/1000\n",
      "16/16 [==============================] - 0s 17ms/step - loss: 0.1143 - accuracy: 0.8475 - val_loss: 0.1497 - val_accuracy: 0.8026\n",
      "Epoch 26/1000\n",
      "16/16 [==============================] - 0s 12ms/step - loss: 0.1141 - accuracy: 0.8496 - val_loss: 0.1504 - val_accuracy: 0.8069\n",
      "Epoch 27/1000\n",
      "16/16 [==============================] - 0s 12ms/step - loss: 0.1132 - accuracy: 0.8432 - val_loss: 0.1481 - val_accuracy: 0.7983\n",
      "Epoch 28/1000\n",
      "16/16 [==============================] - 0s 11ms/step - loss: 0.1149 - accuracy: 0.8517 - val_loss: 0.1502 - val_accuracy: 0.7983\n",
      "Epoch 29/1000\n",
      "16/16 [==============================] - 0s 11ms/step - loss: 0.1115 - accuracy: 0.8432 - val_loss: 0.1483 - val_accuracy: 0.8026\n",
      "Epoch 30/1000\n",
      "16/16 [==============================] - 0s 12ms/step - loss: 0.1127 - accuracy: 0.8496 - val_loss: 0.1497 - val_accuracy: 0.7854\n",
      "Epoch 31/1000\n",
      "16/16 [==============================] - 0s 13ms/step - loss: 0.1107 - accuracy: 0.8581 - val_loss: 0.1498 - val_accuracy: 0.8026\n",
      "Epoch 32/1000\n",
      "16/16 [==============================] - 0s 12ms/step - loss: 0.1118 - accuracy: 0.8496 - val_loss: 0.1534 - val_accuracy: 0.7897\n",
      "Epoch 33/1000\n",
      "16/16 [==============================] - 0s 15ms/step - loss: 0.1126 - accuracy: 0.8390 - val_loss: 0.1483 - val_accuracy: 0.8069\n",
      "Epoch 34/1000\n",
      "16/16 [==============================] - 0s 14ms/step - loss: 0.1145 - accuracy: 0.8432 - val_loss: 0.1557 - val_accuracy: 0.7811\n",
      "Epoch 35/1000\n",
      "16/16 [==============================] - 0s 18ms/step - loss: 0.1132 - accuracy: 0.8538 - val_loss: 0.1519 - val_accuracy: 0.7983\n",
      "Epoch 36/1000\n",
      "16/16 [==============================] - 0s 23ms/step - loss: 0.1107 - accuracy: 0.8496 - val_loss: 0.1492 - val_accuracy: 0.8112\n",
      "Epoch 37/1000\n",
      "16/16 [==============================] - 0s 14ms/step - loss: 0.1095 - accuracy: 0.8538 - val_loss: 0.1502 - val_accuracy: 0.7983\n",
      "Epoch 38/1000\n",
      "16/16 [==============================] - 0s 16ms/step - loss: 0.1077 - accuracy: 0.8538 - val_loss: 0.1518 - val_accuracy: 0.7940\n",
      "Epoch 39/1000\n",
      "16/16 [==============================] - 0s 16ms/step - loss: 0.1075 - accuracy: 0.8538 - val_loss: 0.1520 - val_accuracy: 0.8026\n",
      "Epoch 40/1000\n",
      "16/16 [==============================] - 0s 11ms/step - loss: 0.1067 - accuracy: 0.8581 - val_loss: 0.1529 - val_accuracy: 0.7983\n",
      "Epoch 41/1000\n",
      "16/16 [==============================] - 0s 13ms/step - loss: 0.1076 - accuracy: 0.8559 - val_loss: 0.1525 - val_accuracy: 0.7940\n",
      "Epoch 42/1000\n",
      "16/16 [==============================] - 0s 13ms/step - loss: 0.1062 - accuracy: 0.8581 - val_loss: 0.1506 - val_accuracy: 0.8069\n",
      "Epoch 43/1000\n",
      "16/16 [==============================] - 0s 12ms/step - loss: 0.1062 - accuracy: 0.8517 - val_loss: 0.1566 - val_accuracy: 0.7768\n",
      "Epoch 44/1000\n",
      "16/16 [==============================] - 0s 14ms/step - loss: 0.1058 - accuracy: 0.8644 - val_loss: 0.1513 - val_accuracy: 0.8069\n",
      "Epoch 45/1000\n",
      "16/16 [==============================] - 0s 13ms/step - loss: 0.1068 - accuracy: 0.8559 - val_loss: 0.1527 - val_accuracy: 0.8026\n",
      "Epoch 46/1000\n",
      "16/16 [==============================] - 0s 13ms/step - loss: 0.1042 - accuracy: 0.8602 - val_loss: 0.1524 - val_accuracy: 0.8026\n",
      "Epoch 47/1000\n",
      "16/16 [==============================] - 0s 17ms/step - loss: 0.1052 - accuracy: 0.8602 - val_loss: 0.1568 - val_accuracy: 0.7811\n",
      "Epoch 48/1000\n",
      "16/16 [==============================] - 0s 15ms/step - loss: 0.1049 - accuracy: 0.8602 - val_loss: 0.1531 - val_accuracy: 0.8026\n",
      "Epoch 49/1000\n",
      "16/16 [==============================] - 0s 14ms/step - loss: 0.1039 - accuracy: 0.8602 - val_loss: 0.1543 - val_accuracy: 0.7940\n",
      "Epoch 50/1000\n",
      "16/16 [==============================] - 0s 17ms/step - loss: 0.1036 - accuracy: 0.8581 - val_loss: 0.1583 - val_accuracy: 0.7854\n",
      "Epoch 51/1000\n",
      "16/16 [==============================] - 0s 10ms/step - loss: 0.1029 - accuracy: 0.8665 - val_loss: 0.1528 - val_accuracy: 0.8026\n",
      "Epoch 52/1000\n",
      "16/16 [==============================] - 0s 12ms/step - loss: 0.1071 - accuracy: 0.8602 - val_loss: 0.1616 - val_accuracy: 0.7768\n",
      "Epoch 53/1000\n",
      "16/16 [==============================] - 0s 15ms/step - loss: 0.1120 - accuracy: 0.8517 - val_loss: 0.1536 - val_accuracy: 0.7983\n",
      "Epoch 54/1000\n",
      "16/16 [==============================] - 0s 12ms/step - loss: 0.1032 - accuracy: 0.8665 - val_loss: 0.1624 - val_accuracy: 0.7725\n",
      "Epoch 55/1000\n",
      "16/16 [==============================] - 0s 12ms/step - loss: 0.1023 - accuracy: 0.8623 - val_loss: 0.1536 - val_accuracy: 0.8026\n",
      "Epoch 56/1000\n",
      "16/16 [==============================] - 0s 11ms/step - loss: 0.1057 - accuracy: 0.8644 - val_loss: 0.1560 - val_accuracy: 0.7811\n",
      "Epoch 57/1000\n",
      "16/16 [==============================] - 0s 12ms/step - loss: 0.1047 - accuracy: 0.8559 - val_loss: 0.1588 - val_accuracy: 0.7811\n",
      "Epoch 58/1000\n",
      "16/16 [==============================] - 0s 13ms/step - loss: 0.1017 - accuracy: 0.8644 - val_loss: 0.1588 - val_accuracy: 0.7768\n",
      "Epoch 59/1000\n",
      "16/16 [==============================] - 0s 14ms/step - loss: 0.1016 - accuracy: 0.8665 - val_loss: 0.1568 - val_accuracy: 0.7940\n",
      "Epoch 60/1000\n",
      "16/16 [==============================] - 0s 21ms/step - loss: 0.1009 - accuracy: 0.8665 - val_loss: 0.1572 - val_accuracy: 0.7811\n",
      "Epoch 61/1000\n",
      "16/16 [==============================] - 0s 12ms/step - loss: 0.1017 - accuracy: 0.8708 - val_loss: 0.1578 - val_accuracy: 0.7897\n",
      "Epoch 62/1000\n",
      "16/16 [==============================] - 0s 12ms/step - loss: 0.1011 - accuracy: 0.8623 - val_loss: 0.1592 - val_accuracy: 0.7811\n",
      "Epoch 63/1000\n",
      "16/16 [==============================] - 0s 13ms/step - loss: 0.1009 - accuracy: 0.8729 - val_loss: 0.1577 - val_accuracy: 0.7811\n",
      "Epoch 64/1000\n",
      "16/16 [==============================] - 0s 12ms/step - loss: 0.1008 - accuracy: 0.8750 - val_loss: 0.1579 - val_accuracy: 0.7811\n",
      "Epoch 65/1000\n",
      "16/16 [==============================] - 0s 13ms/step - loss: 0.0997 - accuracy: 0.8686 - val_loss: 0.1615 - val_accuracy: 0.7725\n",
      "Epoch 66/1000\n",
      "16/16 [==============================] - 0s 13ms/step - loss: 0.1002 - accuracy: 0.8771 - val_loss: 0.1577 - val_accuracy: 0.7897\n",
      "Epoch 67/1000\n",
      "16/16 [==============================] - 0s 13ms/step - loss: 0.1013 - accuracy: 0.8665 - val_loss: 0.1602 - val_accuracy: 0.7768\n",
      "Epoch 68/1000\n",
      "16/16 [==============================] - 0s 13ms/step - loss: 0.0997 - accuracy: 0.8708 - val_loss: 0.1573 - val_accuracy: 0.7897\n",
      "Epoch 69/1000\n",
      "16/16 [==============================] - 0s 16ms/step - loss: 0.1013 - accuracy: 0.8644 - val_loss: 0.1590 - val_accuracy: 0.7682\n",
      "Epoch 70/1000\n",
      "16/16 [==============================] - 0s 22ms/step - loss: 0.1011 - accuracy: 0.8708 - val_loss: 0.1629 - val_accuracy: 0.7682\n",
      "Epoch 71/1000\n",
      "16/16 [==============================] - 0s 13ms/step - loss: 0.0999 - accuracy: 0.8708 - val_loss: 0.1575 - val_accuracy: 0.7940\n",
      "Epoch 72/1000\n",
      "16/16 [==============================] - 0s 13ms/step - loss: 0.0998 - accuracy: 0.8686 - val_loss: 0.1582 - val_accuracy: 0.7682\n",
      "Epoch 73/1000\n",
      "16/16 [==============================] - 0s 12ms/step - loss: 0.1005 - accuracy: 0.8750 - val_loss: 0.1596 - val_accuracy: 0.7682\n",
      "Epoch 74/1000\n",
      "16/16 [==============================] - 0s 13ms/step - loss: 0.1036 - accuracy: 0.8686 - val_loss: 0.1573 - val_accuracy: 0.7768\n",
      "Epoch 74: early stopping\n"
     ]
    },
    {
     "data": {
      "text/plain": [
       "<keras.callbacks.History at 0x20c111804c0>"
      ]
     },
     "execution_count": 138,
     "metadata": {},
     "output_type": "execute_result"
    }
   ],
   "source": [
    "model.compile(optimizer=opt,loss=\"mse\", metrics=['accuracy']) \n",
    "earlyStopping=EarlyStopping(monitor=\"val_loss\",mode=\"min\",verbose=1,patience=50)\n",
    "model.fit(x=x_train,y=y_train,validation_data=(x_test,y_test),batch_size=30,epochs=1000,callbacks=[earlyStopping])"
   ]
  },
  {
   "cell_type": "code",
   "execution_count": 139,
   "metadata": {},
   "outputs": [
    {
     "data": {
      "text/plain": [
       "86.86"
      ]
     },
     "execution_count": 139,
     "metadata": {},
     "output_type": "execute_result"
    }
   ],
   "source": [
    "round(model.history.history['accuracy'][-1]*100,2)"
   ]
  },
  {
   "cell_type": "code",
   "execution_count": 165,
   "metadata": {},
   "outputs": [
    {
     "name": "stdout",
     "output_type": "stream",
     "text": [
      "Pclass       3\n",
      "Sex          0\n",
      "Age         21\n",
      "SibSp        3\n",
      "Parch        0\n",
      "Embarked     0\n",
      "Name: 0, dtype: int64\n"
     ]
    }
   ],
   "source": [
    "#manuel\n",
    "yeniDeger=pd.read_csv(\"D:/1Onemli/1KODLAR/phyton/YZ/kulup/machine learning/titanic/DeepLearning/deneme.csv\")\n",
    "yeniDeger.replace({'Sex':{'male':0,'female':1}, 'Embarked':{'S':0,'C':1,'Q':2}}, inplace=True)\n",
    "yeniDeger=yeniDeger.iloc[0]\n",
    "print(yeniDeger)\n",
    "yeniDeger3=yeniDeger.values.reshape(-1,6)\n",
    "predict=model.predict(yeniDeger3)"
   ]
  },
  {
   "cell_type": "code",
   "execution_count": 164,
   "metadata": {},
   "outputs": [
    {
     "name": "stdout",
     "output_type": "stream",
     "text": [
      "1.0\n"
     ]
    }
   ],
   "source": [
    "#listeden\n",
    "yeniDeger=train_DF_99.iloc[42]\n",
    "print(yeniDeger[0])\n",
    "yeniDeger2=yeniDeger.drop(\"Survived\")\n",
    "yeniDeger3=yeniDeger2.values.reshape(-1,6)\n",
    "predict=model.predict(yeniDeger3)"
   ]
  },
  {
   "cell_type": "code",
   "execution_count": 166,
   "metadata": {},
   "outputs": [
    {
     "name": "stdout",
     "output_type": "stream",
     "text": [
      "Hayatta kaldı\n"
     ]
    }
   ],
   "source": [
    "#sonuç\n",
    "if np.mean(predict)<0.5:\n",
    "    print(\"Öldü\")\n",
    "else:\n",
    "    print(\"Hayatta kaldı\")"
   ]
  },
  {
   "cell_type": "code",
   "execution_count": 167,
   "metadata": {},
   "outputs": [],
   "source": [
    "yasar=[]\n",
    "olu=[]\n",
    "for i in range(len(train_DF_99)):\n",
    "    yeniDeger=train_DF_99.iloc[i]\n",
    "    yeniDeger2=yeniDeger.drop(\"Survived\")\n",
    "    yeniDeger3=yeniDeger2.values.reshape(-1,6)\n",
    "    predict=model.predict(yeniDeger3)\n",
    "    if yeniDeger[\"Survived\"]==1:\n",
    "        yasar.append(predict[0])\n",
    "    if yeniDeger[\"Survived\"]==0:\n",
    "        olu.append(predict[0])"
   ]
  },
  {
   "cell_type": "code",
   "execution_count": 169,
   "metadata": {},
   "outputs": [
    {
     "name": "stdout",
     "output_type": "stream",
     "text": [
      "0.724236\n",
      "0.18615098\n"
     ]
    }
   ],
   "source": [
    "# print(yasar)\n",
    "# print(olu)\n",
    "print(np.mean(yasar))\n",
    "print(np.mean(olu))  "
   ]
  }
 ],
 "metadata": {
  "interpreter": {
   "hash": "9bf1920ceb2e6b07bcaac44dfbb899434c37e4ff55ab2640e01c4ebd513b1244"
  },
  "kernelspec": {
   "display_name": "Python 3.9.11 64-bit",
   "language": "python",
   "name": "python3"
  },
  "language_info": {
   "codemirror_mode": {
    "name": "ipython",
    "version": 3
   },
   "file_extension": ".py",
   "mimetype": "text/x-python",
   "name": "python",
   "nbconvert_exporter": "python",
   "pygments_lexer": "ipython3",
   "version": "3.9.11"
  },
  "orig_nbformat": 4
 },
 "nbformat": 4,
 "nbformat_minor": 2
}
